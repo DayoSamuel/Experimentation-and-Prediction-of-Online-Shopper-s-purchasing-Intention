{
 "cells": [
  {
   "cell_type": "markdown",
   "id": "b48318af",
   "metadata": {},
   "source": [
    "# Importing all required libraries and loading my dataset"
   ]
  },
  {
   "cell_type": "code",
   "execution_count": 1,
   "id": "02e99f03",
   "metadata": {},
   "outputs": [],
   "source": [
    "import tensorflow as tf\n",
    "import numpy as np\n",
    "import pandas as pd\n",
    "import matplotlib.pyplot as plt\n",
    "import seaborn as sns\n",
    "from sklearn.preprocessing import StandardScaler\n",
    "from sklearn.model_selection import train_test_split"
   ]
  },
  {
   "cell_type": "code",
   "execution_count": 2,
   "id": "84afffcf",
   "metadata": {},
   "outputs": [],
   "source": [
    "dataset = pd.read_csv('online_shoppers_intention.csv')"
   ]
  },
  {
   "cell_type": "code",
   "execution_count": 3,
   "id": "c5a8f745",
   "metadata": {},
   "outputs": [
    {
     "data": {
      "text/plain": [
       "(12330, 18)"
      ]
     },
     "execution_count": 3,
     "metadata": {},
     "output_type": "execute_result"
    }
   ],
   "source": [
    "dataset.shape"
   ]
  },
  {
   "cell_type": "code",
   "execution_count": 4,
   "id": "fdeb2469",
   "metadata": {},
   "outputs": [
    {
     "data": {
      "text/plain": [
       "<bound method NDFrame.head of        Administrative  Administrative_Duration  Informational  \\\n",
       "0                   0                      0.0              0   \n",
       "1                   0                      0.0              0   \n",
       "2                   0                      0.0              0   \n",
       "3                   0                      0.0              0   \n",
       "4                   0                      0.0              0   \n",
       "...               ...                      ...            ...   \n",
       "12325               3                    145.0              0   \n",
       "12326               0                      0.0              0   \n",
       "12327               0                      0.0              0   \n",
       "12328               4                     75.0              0   \n",
       "12329               0                      0.0              0   \n",
       "\n",
       "       Informational_Duration  ProductRelated  ProductRelated_Duration  \\\n",
       "0                         0.0               1                 0.000000   \n",
       "1                         0.0               2                64.000000   \n",
       "2                         0.0               1                 0.000000   \n",
       "3                         0.0               2                 2.666667   \n",
       "4                         0.0              10               627.500000   \n",
       "...                       ...             ...                      ...   \n",
       "12325                     0.0              53              1783.791667   \n",
       "12326                     0.0               5               465.750000   \n",
       "12327                     0.0               6               184.250000   \n",
       "12328                     0.0              15               346.000000   \n",
       "12329                     0.0               3                21.250000   \n",
       "\n",
       "       BounceRates  ExitRates  PageValues  SpecialDay Month  OperatingSystems  \\\n",
       "0         0.200000   0.200000    0.000000         0.0   Feb                 1   \n",
       "1         0.000000   0.100000    0.000000         0.0   Feb                 2   \n",
       "2         0.200000   0.200000    0.000000         0.0   Feb                 4   \n",
       "3         0.050000   0.140000    0.000000         0.0   Feb                 3   \n",
       "4         0.020000   0.050000    0.000000         0.0   Feb                 3   \n",
       "...            ...        ...         ...         ...   ...               ...   \n",
       "12325     0.007143   0.029031   12.241717         0.0   Dec                 4   \n",
       "12326     0.000000   0.021333    0.000000         0.0   Nov                 3   \n",
       "12327     0.083333   0.086667    0.000000         0.0   Nov                 3   \n",
       "12328     0.000000   0.021053    0.000000         0.0   Nov                 2   \n",
       "12329     0.000000   0.066667    0.000000         0.0   Nov                 3   \n",
       "\n",
       "       Browser  Region  TrafficType        VisitorType  Weekend  Revenue  \n",
       "0            1       1            1  Returning_Visitor    False    False  \n",
       "1            2       1            2  Returning_Visitor    False    False  \n",
       "2            1       9            3  Returning_Visitor    False    False  \n",
       "3            2       2            4  Returning_Visitor    False    False  \n",
       "4            3       1            4  Returning_Visitor     True    False  \n",
       "...        ...     ...          ...                ...      ...      ...  \n",
       "12325        6       1            1  Returning_Visitor     True    False  \n",
       "12326        2       1            8  Returning_Visitor     True    False  \n",
       "12327        2       1           13  Returning_Visitor     True    False  \n",
       "12328        2       3           11  Returning_Visitor    False    False  \n",
       "12329        2       1            2        New_Visitor     True    False  \n",
       "\n",
       "[12330 rows x 18 columns]>"
      ]
     },
     "execution_count": 4,
     "metadata": {},
     "output_type": "execute_result"
    }
   ],
   "source": [
    "dataset.head"
   ]
  },
  {
   "cell_type": "code",
   "execution_count": 5,
   "id": "c3ea7c29",
   "metadata": {},
   "outputs": [
    {
     "data": {
      "text/html": [
       "<div>\n",
       "<style scoped>\n",
       "    .dataframe tbody tr th:only-of-type {\n",
       "        vertical-align: middle;\n",
       "    }\n",
       "\n",
       "    .dataframe tbody tr th {\n",
       "        vertical-align: top;\n",
       "    }\n",
       "\n",
       "    .dataframe thead th {\n",
       "        text-align: right;\n",
       "    }\n",
       "</style>\n",
       "<table border=\"1\" class=\"dataframe\">\n",
       "  <thead>\n",
       "    <tr style=\"text-align: right;\">\n",
       "      <th></th>\n",
       "      <th>Administrative</th>\n",
       "      <th>Administrative_Duration</th>\n",
       "      <th>Informational</th>\n",
       "      <th>Informational_Duration</th>\n",
       "      <th>ProductRelated</th>\n",
       "      <th>ProductRelated_Duration</th>\n",
       "      <th>BounceRates</th>\n",
       "      <th>ExitRates</th>\n",
       "      <th>PageValues</th>\n",
       "      <th>SpecialDay</th>\n",
       "      <th>Month</th>\n",
       "      <th>OperatingSystems</th>\n",
       "      <th>Browser</th>\n",
       "      <th>Region</th>\n",
       "      <th>TrafficType</th>\n",
       "      <th>VisitorType</th>\n",
       "      <th>Weekend</th>\n",
       "      <th>Revenue</th>\n",
       "    </tr>\n",
       "  </thead>\n",
       "  <tbody>\n",
       "    <tr>\n",
       "      <th>0</th>\n",
       "      <td>0</td>\n",
       "      <td>0.0</td>\n",
       "      <td>0</td>\n",
       "      <td>0.0</td>\n",
       "      <td>1</td>\n",
       "      <td>0.000000</td>\n",
       "      <td>0.20</td>\n",
       "      <td>0.20</td>\n",
       "      <td>0.0</td>\n",
       "      <td>0.0</td>\n",
       "      <td>Feb</td>\n",
       "      <td>1</td>\n",
       "      <td>1</td>\n",
       "      <td>1</td>\n",
       "      <td>1</td>\n",
       "      <td>Returning_Visitor</td>\n",
       "      <td>False</td>\n",
       "      <td>False</td>\n",
       "    </tr>\n",
       "    <tr>\n",
       "      <th>1</th>\n",
       "      <td>0</td>\n",
       "      <td>0.0</td>\n",
       "      <td>0</td>\n",
       "      <td>0.0</td>\n",
       "      <td>2</td>\n",
       "      <td>64.000000</td>\n",
       "      <td>0.00</td>\n",
       "      <td>0.10</td>\n",
       "      <td>0.0</td>\n",
       "      <td>0.0</td>\n",
       "      <td>Feb</td>\n",
       "      <td>2</td>\n",
       "      <td>2</td>\n",
       "      <td>1</td>\n",
       "      <td>2</td>\n",
       "      <td>Returning_Visitor</td>\n",
       "      <td>False</td>\n",
       "      <td>False</td>\n",
       "    </tr>\n",
       "    <tr>\n",
       "      <th>2</th>\n",
       "      <td>0</td>\n",
       "      <td>0.0</td>\n",
       "      <td>0</td>\n",
       "      <td>0.0</td>\n",
       "      <td>1</td>\n",
       "      <td>0.000000</td>\n",
       "      <td>0.20</td>\n",
       "      <td>0.20</td>\n",
       "      <td>0.0</td>\n",
       "      <td>0.0</td>\n",
       "      <td>Feb</td>\n",
       "      <td>4</td>\n",
       "      <td>1</td>\n",
       "      <td>9</td>\n",
       "      <td>3</td>\n",
       "      <td>Returning_Visitor</td>\n",
       "      <td>False</td>\n",
       "      <td>False</td>\n",
       "    </tr>\n",
       "    <tr>\n",
       "      <th>3</th>\n",
       "      <td>0</td>\n",
       "      <td>0.0</td>\n",
       "      <td>0</td>\n",
       "      <td>0.0</td>\n",
       "      <td>2</td>\n",
       "      <td>2.666667</td>\n",
       "      <td>0.05</td>\n",
       "      <td>0.14</td>\n",
       "      <td>0.0</td>\n",
       "      <td>0.0</td>\n",
       "      <td>Feb</td>\n",
       "      <td>3</td>\n",
       "      <td>2</td>\n",
       "      <td>2</td>\n",
       "      <td>4</td>\n",
       "      <td>Returning_Visitor</td>\n",
       "      <td>False</td>\n",
       "      <td>False</td>\n",
       "    </tr>\n",
       "    <tr>\n",
       "      <th>4</th>\n",
       "      <td>0</td>\n",
       "      <td>0.0</td>\n",
       "      <td>0</td>\n",
       "      <td>0.0</td>\n",
       "      <td>10</td>\n",
       "      <td>627.500000</td>\n",
       "      <td>0.02</td>\n",
       "      <td>0.05</td>\n",
       "      <td>0.0</td>\n",
       "      <td>0.0</td>\n",
       "      <td>Feb</td>\n",
       "      <td>3</td>\n",
       "      <td>3</td>\n",
       "      <td>1</td>\n",
       "      <td>4</td>\n",
       "      <td>Returning_Visitor</td>\n",
       "      <td>True</td>\n",
       "      <td>False</td>\n",
       "    </tr>\n",
       "  </tbody>\n",
       "</table>\n",
       "</div>"
      ],
      "text/plain": [
       "   Administrative  Administrative_Duration  Informational  \\\n",
       "0               0                      0.0              0   \n",
       "1               0                      0.0              0   \n",
       "2               0                      0.0              0   \n",
       "3               0                      0.0              0   \n",
       "4               0                      0.0              0   \n",
       "\n",
       "   Informational_Duration  ProductRelated  ProductRelated_Duration  \\\n",
       "0                     0.0               1                 0.000000   \n",
       "1                     0.0               2                64.000000   \n",
       "2                     0.0               1                 0.000000   \n",
       "3                     0.0               2                 2.666667   \n",
       "4                     0.0              10               627.500000   \n",
       "\n",
       "   BounceRates  ExitRates  PageValues  SpecialDay Month  OperatingSystems  \\\n",
       "0         0.20       0.20         0.0         0.0   Feb                 1   \n",
       "1         0.00       0.10         0.0         0.0   Feb                 2   \n",
       "2         0.20       0.20         0.0         0.0   Feb                 4   \n",
       "3         0.05       0.14         0.0         0.0   Feb                 3   \n",
       "4         0.02       0.05         0.0         0.0   Feb                 3   \n",
       "\n",
       "   Browser  Region  TrafficType        VisitorType  Weekend  Revenue  \n",
       "0        1       1            1  Returning_Visitor    False    False  \n",
       "1        2       1            2  Returning_Visitor    False    False  \n",
       "2        1       9            3  Returning_Visitor    False    False  \n",
       "3        2       2            4  Returning_Visitor    False    False  \n",
       "4        3       1            4  Returning_Visitor     True    False  "
      ]
     },
     "execution_count": 5,
     "metadata": {},
     "output_type": "execute_result"
    }
   ],
   "source": [
    "dataset.head()"
   ]
  },
  {
   "cell_type": "code",
   "execution_count": 6,
   "id": "97a319a9",
   "metadata": {},
   "outputs": [
    {
     "name": "stdout",
     "output_type": "stream",
     "text": [
      "<class 'pandas.core.frame.DataFrame'>\n",
      "RangeIndex: 12330 entries, 0 to 12329\n",
      "Data columns (total 18 columns):\n",
      " #   Column                   Non-Null Count  Dtype  \n",
      "---  ------                   --------------  -----  \n",
      " 0   Administrative           12330 non-null  int64  \n",
      " 1   Administrative_Duration  12330 non-null  float64\n",
      " 2   Informational            12330 non-null  int64  \n",
      " 3   Informational_Duration   12330 non-null  float64\n",
      " 4   ProductRelated           12330 non-null  int64  \n",
      " 5   ProductRelated_Duration  12330 non-null  float64\n",
      " 6   BounceRates              12330 non-null  float64\n",
      " 7   ExitRates                12330 non-null  float64\n",
      " 8   PageValues               12330 non-null  float64\n",
      " 9   SpecialDay               12330 non-null  float64\n",
      " 10  Month                    12330 non-null  object \n",
      " 11  OperatingSystems         12330 non-null  int64  \n",
      " 12  Browser                  12330 non-null  int64  \n",
      " 13  Region                   12330 non-null  int64  \n",
      " 14  TrafficType              12330 non-null  int64  \n",
      " 15  VisitorType              12330 non-null  object \n",
      " 16  Weekend                  12330 non-null  bool   \n",
      " 17  Revenue                  12330 non-null  bool   \n",
      "dtypes: bool(2), float64(7), int64(7), object(2)\n",
      "memory usage: 1.5+ MB\n"
     ]
    }
   ],
   "source": [
    "dataset.info()"
   ]
  },
  {
   "cell_type": "code",
   "execution_count": 7,
   "id": "2b9e4bbd",
   "metadata": {},
   "outputs": [
    {
     "data": {
      "text/html": [
       "<div>\n",
       "<style scoped>\n",
       "    .dataframe tbody tr th:only-of-type {\n",
       "        vertical-align: middle;\n",
       "    }\n",
       "\n",
       "    .dataframe tbody tr th {\n",
       "        vertical-align: top;\n",
       "    }\n",
       "\n",
       "    .dataframe thead th {\n",
       "        text-align: right;\n",
       "    }\n",
       "</style>\n",
       "<table border=\"1\" class=\"dataframe\">\n",
       "  <thead>\n",
       "    <tr style=\"text-align: right;\">\n",
       "      <th></th>\n",
       "      <th>Administrative</th>\n",
       "      <th>Administrative_Duration</th>\n",
       "      <th>Informational</th>\n",
       "      <th>Informational_Duration</th>\n",
       "      <th>ProductRelated</th>\n",
       "      <th>ProductRelated_Duration</th>\n",
       "      <th>BounceRates</th>\n",
       "      <th>ExitRates</th>\n",
       "      <th>PageValues</th>\n",
       "      <th>SpecialDay</th>\n",
       "      <th>OperatingSystems</th>\n",
       "      <th>Browser</th>\n",
       "      <th>Region</th>\n",
       "      <th>TrafficType</th>\n",
       "    </tr>\n",
       "  </thead>\n",
       "  <tbody>\n",
       "    <tr>\n",
       "      <th>count</th>\n",
       "      <td>12330.000000</td>\n",
       "      <td>12330.000000</td>\n",
       "      <td>12330.000000</td>\n",
       "      <td>12330.000000</td>\n",
       "      <td>12330.000000</td>\n",
       "      <td>12330.000000</td>\n",
       "      <td>12330.000000</td>\n",
       "      <td>12330.000000</td>\n",
       "      <td>12330.000000</td>\n",
       "      <td>12330.000000</td>\n",
       "      <td>12330.000000</td>\n",
       "      <td>12330.000000</td>\n",
       "      <td>12330.000000</td>\n",
       "      <td>12330.000000</td>\n",
       "    </tr>\n",
       "    <tr>\n",
       "      <th>mean</th>\n",
       "      <td>2.315166</td>\n",
       "      <td>80.818611</td>\n",
       "      <td>0.503569</td>\n",
       "      <td>34.472398</td>\n",
       "      <td>31.731468</td>\n",
       "      <td>1194.746220</td>\n",
       "      <td>0.022191</td>\n",
       "      <td>0.043073</td>\n",
       "      <td>5.889258</td>\n",
       "      <td>0.061427</td>\n",
       "      <td>2.124006</td>\n",
       "      <td>2.357097</td>\n",
       "      <td>3.147364</td>\n",
       "      <td>4.069586</td>\n",
       "    </tr>\n",
       "    <tr>\n",
       "      <th>std</th>\n",
       "      <td>3.321784</td>\n",
       "      <td>176.779107</td>\n",
       "      <td>1.270156</td>\n",
       "      <td>140.749294</td>\n",
       "      <td>44.475503</td>\n",
       "      <td>1913.669288</td>\n",
       "      <td>0.048488</td>\n",
       "      <td>0.048597</td>\n",
       "      <td>18.568437</td>\n",
       "      <td>0.198917</td>\n",
       "      <td>0.911325</td>\n",
       "      <td>1.717277</td>\n",
       "      <td>2.401591</td>\n",
       "      <td>4.025169</td>\n",
       "    </tr>\n",
       "    <tr>\n",
       "      <th>min</th>\n",
       "      <td>0.000000</td>\n",
       "      <td>0.000000</td>\n",
       "      <td>0.000000</td>\n",
       "      <td>0.000000</td>\n",
       "      <td>0.000000</td>\n",
       "      <td>0.000000</td>\n",
       "      <td>0.000000</td>\n",
       "      <td>0.000000</td>\n",
       "      <td>0.000000</td>\n",
       "      <td>0.000000</td>\n",
       "      <td>1.000000</td>\n",
       "      <td>1.000000</td>\n",
       "      <td>1.000000</td>\n",
       "      <td>1.000000</td>\n",
       "    </tr>\n",
       "    <tr>\n",
       "      <th>25%</th>\n",
       "      <td>0.000000</td>\n",
       "      <td>0.000000</td>\n",
       "      <td>0.000000</td>\n",
       "      <td>0.000000</td>\n",
       "      <td>7.000000</td>\n",
       "      <td>184.137500</td>\n",
       "      <td>0.000000</td>\n",
       "      <td>0.014286</td>\n",
       "      <td>0.000000</td>\n",
       "      <td>0.000000</td>\n",
       "      <td>2.000000</td>\n",
       "      <td>2.000000</td>\n",
       "      <td>1.000000</td>\n",
       "      <td>2.000000</td>\n",
       "    </tr>\n",
       "    <tr>\n",
       "      <th>50%</th>\n",
       "      <td>1.000000</td>\n",
       "      <td>7.500000</td>\n",
       "      <td>0.000000</td>\n",
       "      <td>0.000000</td>\n",
       "      <td>18.000000</td>\n",
       "      <td>598.936905</td>\n",
       "      <td>0.003112</td>\n",
       "      <td>0.025156</td>\n",
       "      <td>0.000000</td>\n",
       "      <td>0.000000</td>\n",
       "      <td>2.000000</td>\n",
       "      <td>2.000000</td>\n",
       "      <td>3.000000</td>\n",
       "      <td>2.000000</td>\n",
       "    </tr>\n",
       "    <tr>\n",
       "      <th>75%</th>\n",
       "      <td>4.000000</td>\n",
       "      <td>93.256250</td>\n",
       "      <td>0.000000</td>\n",
       "      <td>0.000000</td>\n",
       "      <td>38.000000</td>\n",
       "      <td>1464.157214</td>\n",
       "      <td>0.016813</td>\n",
       "      <td>0.050000</td>\n",
       "      <td>0.000000</td>\n",
       "      <td>0.000000</td>\n",
       "      <td>3.000000</td>\n",
       "      <td>2.000000</td>\n",
       "      <td>4.000000</td>\n",
       "      <td>4.000000</td>\n",
       "    </tr>\n",
       "    <tr>\n",
       "      <th>max</th>\n",
       "      <td>27.000000</td>\n",
       "      <td>3398.750000</td>\n",
       "      <td>24.000000</td>\n",
       "      <td>2549.375000</td>\n",
       "      <td>705.000000</td>\n",
       "      <td>63973.522230</td>\n",
       "      <td>0.200000</td>\n",
       "      <td>0.200000</td>\n",
       "      <td>361.763742</td>\n",
       "      <td>1.000000</td>\n",
       "      <td>8.000000</td>\n",
       "      <td>13.000000</td>\n",
       "      <td>9.000000</td>\n",
       "      <td>20.000000</td>\n",
       "    </tr>\n",
       "  </tbody>\n",
       "</table>\n",
       "</div>"
      ],
      "text/plain": [
       "       Administrative  Administrative_Duration  Informational  \\\n",
       "count    12330.000000             12330.000000   12330.000000   \n",
       "mean         2.315166                80.818611       0.503569   \n",
       "std          3.321784               176.779107       1.270156   \n",
       "min          0.000000                 0.000000       0.000000   \n",
       "25%          0.000000                 0.000000       0.000000   \n",
       "50%          1.000000                 7.500000       0.000000   \n",
       "75%          4.000000                93.256250       0.000000   \n",
       "max         27.000000              3398.750000      24.000000   \n",
       "\n",
       "       Informational_Duration  ProductRelated  ProductRelated_Duration  \\\n",
       "count            12330.000000    12330.000000             12330.000000   \n",
       "mean                34.472398       31.731468              1194.746220   \n",
       "std                140.749294       44.475503              1913.669288   \n",
       "min                  0.000000        0.000000                 0.000000   \n",
       "25%                  0.000000        7.000000               184.137500   \n",
       "50%                  0.000000       18.000000               598.936905   \n",
       "75%                  0.000000       38.000000              1464.157214   \n",
       "max               2549.375000      705.000000             63973.522230   \n",
       "\n",
       "        BounceRates     ExitRates    PageValues    SpecialDay  \\\n",
       "count  12330.000000  12330.000000  12330.000000  12330.000000   \n",
       "mean       0.022191      0.043073      5.889258      0.061427   \n",
       "std        0.048488      0.048597     18.568437      0.198917   \n",
       "min        0.000000      0.000000      0.000000      0.000000   \n",
       "25%        0.000000      0.014286      0.000000      0.000000   \n",
       "50%        0.003112      0.025156      0.000000      0.000000   \n",
       "75%        0.016813      0.050000      0.000000      0.000000   \n",
       "max        0.200000      0.200000    361.763742      1.000000   \n",
       "\n",
       "       OperatingSystems       Browser        Region   TrafficType  \n",
       "count      12330.000000  12330.000000  12330.000000  12330.000000  \n",
       "mean           2.124006      2.357097      3.147364      4.069586  \n",
       "std            0.911325      1.717277      2.401591      4.025169  \n",
       "min            1.000000      1.000000      1.000000      1.000000  \n",
       "25%            2.000000      2.000000      1.000000      2.000000  \n",
       "50%            2.000000      2.000000      3.000000      2.000000  \n",
       "75%            3.000000      2.000000      4.000000      4.000000  \n",
       "max            8.000000     13.000000      9.000000     20.000000  "
      ]
     },
     "execution_count": 7,
     "metadata": {},
     "output_type": "execute_result"
    }
   ],
   "source": [
    "dataset.describe()"
   ]
  },
  {
   "cell_type": "code",
   "execution_count": 8,
   "id": "5253808e",
   "metadata": {},
   "outputs": [],
   "source": [
    "dataset['Revenue'] = dataset['Revenue'].astype(int)"
   ]
  },
  {
   "cell_type": "code",
   "execution_count": 9,
   "id": "4051ed55",
   "metadata": {},
   "outputs": [],
   "source": [
    "dataset['Weekend'] = dataset['Weekend'].astype(int)"
   ]
  },
  {
   "cell_type": "code",
   "execution_count": 10,
   "id": "6c22656e",
   "metadata": {},
   "outputs": [],
   "source": [
    "dataset['VisitorType']=dataset['VisitorType'].replace(['Returning_Visitor','New_Visitor','Other'],[1,0,2])"
   ]
  },
  {
   "cell_type": "code",
   "execution_count": 11,
   "id": "8df49bf9",
   "metadata": {},
   "outputs": [
    {
     "data": {
      "text/plain": [
       "0    10422\n",
       "1     1908\n",
       "Name: Revenue, dtype: int64"
      ]
     },
     "execution_count": 11,
     "metadata": {},
     "output_type": "execute_result"
    }
   ],
   "source": [
    "dataset[\"Revenue\"].value_counts()"
   ]
  },
  {
   "cell_type": "code",
   "execution_count": 12,
   "id": "051e6392",
   "metadata": {},
   "outputs": [
    {
     "data": {
      "text/plain": [
       "1    10551\n",
       "0     1694\n",
       "2       85\n",
       "Name: VisitorType, dtype: int64"
      ]
     },
     "execution_count": 12,
     "metadata": {},
     "output_type": "execute_result"
    }
   ],
   "source": [
    "dataset[\"VisitorType\"].value_counts()"
   ]
  },
  {
   "cell_type": "code",
   "execution_count": 13,
   "id": "144c09f9",
   "metadata": {},
   "outputs": [
    {
     "name": "stderr",
     "output_type": "stream",
     "text": [
      "C:\\Users\\BUSINESS\\anaconda3\\lib\\site-packages\\seaborn\\_decorators.py:36: FutureWarning: Pass the following variable as a keyword arg: x. From version 0.12, the only valid positional argument will be `data`, and passing other arguments without an explicit keyword will result in an error or misinterpretation.\n",
      "  warnings.warn(\n"
     ]
    },
    {
     "data": {
      "text/plain": [
       "<AxesSubplot:xlabel='OperatingSystems', ylabel='count'>"
      ]
     },
     "execution_count": 13,
     "metadata": {},
     "output_type": "execute_result"
    },
    {
     "data": {
      "image/png": "[encoded data removed]",
      "text/plain": [
       "<Figure size 432x288 with 1 Axes>"
      ]
     },
     "metadata": {
      "needs_background": "light"
     },
     "output_type": "display_data"
    }
   ],
   "source": [
    "sns.countplot(dataset[\"OperatingSystems\"])"
   ]
  },
  {
   "cell_type": "code",
   "execution_count": 14,
   "id": "e9544435",
   "metadata": {},
   "outputs": [
    {
     "name": "stderr",
     "output_type": "stream",
     "text": [
      "C:\\Users\\BUSINESS\\anaconda3\\lib\\site-packages\\seaborn\\_decorators.py:36: FutureWarning: Pass the following variable as a keyword arg: x. From version 0.12, the only valid positional argument will be `data`, and passing other arguments without an explicit keyword will result in an error or misinterpretation.\n",
      "  warnings.warn(\n"
     ]
    },
    {
     "data": {
      "text/plain": [
       "<AxesSubplot:xlabel='Revenue', ylabel='count'>"
      ]
     },
     "execution_count": 14,
     "metadata": {},
     "output_type": "execute_result"
    },
    {
     "data": {
      "image/png": "[encoded data removed]",
      "text/plain": [
       "<Figure size 432x288 with 1 Axes>"
      ]
     },
     "metadata": {
      "needs_background": "light"
     },
     "output_type": "display_data"
    }
   ],
   "source": [
    "sns.countplot(dataset[\"Revenue\"])"
   ]
  },
  {
   "cell_type": "code",
   "execution_count": 15,
   "id": "bb09c99b",
   "metadata": {
    "scrolled": true
   },
   "outputs": [
    {
     "data": {
      "text/html": [
       "<div>\n",
       "<style scoped>\n",
       "    .dataframe tbody tr th:only-of-type {\n",
       "        vertical-align: middle;\n",
       "    }\n",
       "\n",
       "    .dataframe tbody tr th {\n",
       "        vertical-align: top;\n",
       "    }\n",
       "\n",
       "    .dataframe thead th {\n",
       "        text-align: right;\n",
       "    }\n",
       "</style>\n",
       "<table border=\"1\" class=\"dataframe\">\n",
       "  <thead>\n",
       "    <tr style=\"text-align: right;\">\n",
       "      <th></th>\n",
       "      <th>Administrative</th>\n",
       "      <th>Administrative_Duration</th>\n",
       "      <th>Informational</th>\n",
       "      <th>Informational_Duration</th>\n",
       "      <th>ProductRelated</th>\n",
       "      <th>ProductRelated_Duration</th>\n",
       "      <th>BounceRates</th>\n",
       "      <th>ExitRates</th>\n",
       "      <th>PageValues</th>\n",
       "      <th>SpecialDay</th>\n",
       "      <th>OperatingSystems</th>\n",
       "      <th>Browser</th>\n",
       "      <th>Region</th>\n",
       "      <th>TrafficType</th>\n",
       "      <th>VisitorType</th>\n",
       "      <th>Weekend</th>\n",
       "      <th>Revenue</th>\n",
       "    </tr>\n",
       "  </thead>\n",
       "  <tbody>\n",
       "    <tr>\n",
       "      <th>0</th>\n",
       "      <td>0</td>\n",
       "      <td>0.0</td>\n",
       "      <td>0</td>\n",
       "      <td>0.0</td>\n",
       "      <td>1</td>\n",
       "      <td>0.000000</td>\n",
       "      <td>0.200000</td>\n",
       "      <td>0.200000</td>\n",
       "      <td>0.000000</td>\n",
       "      <td>0.0</td>\n",
       "      <td>1</td>\n",
       "      <td>1</td>\n",
       "      <td>1</td>\n",
       "      <td>1</td>\n",
       "      <td>1</td>\n",
       "      <td>0</td>\n",
       "      <td>0</td>\n",
       "    </tr>\n",
       "    <tr>\n",
       "      <th>1</th>\n",
       "      <td>0</td>\n",
       "      <td>0.0</td>\n",
       "      <td>0</td>\n",
       "      <td>0.0</td>\n",
       "      <td>2</td>\n",
       "      <td>64.000000</td>\n",
       "      <td>0.000000</td>\n",
       "      <td>0.100000</td>\n",
       "      <td>0.000000</td>\n",
       "      <td>0.0</td>\n",
       "      <td>2</td>\n",
       "      <td>2</td>\n",
       "      <td>1</td>\n",
       "      <td>2</td>\n",
       "      <td>1</td>\n",
       "      <td>0</td>\n",
       "      <td>0</td>\n",
       "    </tr>\n",
       "    <tr>\n",
       "      <th>2</th>\n",
       "      <td>0</td>\n",
       "      <td>0.0</td>\n",
       "      <td>0</td>\n",
       "      <td>0.0</td>\n",
       "      <td>1</td>\n",
       "      <td>0.000000</td>\n",
       "      <td>0.200000</td>\n",
       "      <td>0.200000</td>\n",
       "      <td>0.000000</td>\n",
       "      <td>0.0</td>\n",
       "      <td>4</td>\n",
       "      <td>1</td>\n",
       "      <td>9</td>\n",
       "      <td>3</td>\n",
       "      <td>1</td>\n",
       "      <td>0</td>\n",
       "      <td>0</td>\n",
       "    </tr>\n",
       "    <tr>\n",
       "      <th>3</th>\n",
       "      <td>0</td>\n",
       "      <td>0.0</td>\n",
       "      <td>0</td>\n",
       "      <td>0.0</td>\n",
       "      <td>2</td>\n",
       "      <td>2.666667</td>\n",
       "      <td>0.050000</td>\n",
       "      <td>0.140000</td>\n",
       "      <td>0.000000</td>\n",
       "      <td>0.0</td>\n",
       "      <td>3</td>\n",
       "      <td>2</td>\n",
       "      <td>2</td>\n",
       "      <td>4</td>\n",
       "      <td>1</td>\n",
       "      <td>0</td>\n",
       "      <td>0</td>\n",
       "    </tr>\n",
       "    <tr>\n",
       "      <th>4</th>\n",
       "      <td>0</td>\n",
       "      <td>0.0</td>\n",
       "      <td>0</td>\n",
       "      <td>0.0</td>\n",
       "      <td>10</td>\n",
       "      <td>627.500000</td>\n",
       "      <td>0.020000</td>\n",
       "      <td>0.050000</td>\n",
       "      <td>0.000000</td>\n",
       "      <td>0.0</td>\n",
       "      <td>3</td>\n",
       "      <td>3</td>\n",
       "      <td>1</td>\n",
       "      <td>4</td>\n",
       "      <td>1</td>\n",
       "      <td>1</td>\n",
       "      <td>0</td>\n",
       "    </tr>\n",
       "    <tr>\n",
       "      <th>...</th>\n",
       "      <td>...</td>\n",
       "      <td>...</td>\n",
       "      <td>...</td>\n",
       "      <td>...</td>\n",
       "      <td>...</td>\n",
       "      <td>...</td>\n",
       "      <td>...</td>\n",
       "      <td>...</td>\n",
       "      <td>...</td>\n",
       "      <td>...</td>\n",
       "      <td>...</td>\n",
       "      <td>...</td>\n",
       "      <td>...</td>\n",
       "      <td>...</td>\n",
       "      <td>...</td>\n",
       "      <td>...</td>\n",
       "      <td>...</td>\n",
       "    </tr>\n",
       "    <tr>\n",
       "      <th>12325</th>\n",
       "      <td>3</td>\n",
       "      <td>145.0</td>\n",
       "      <td>0</td>\n",
       "      <td>0.0</td>\n",
       "      <td>53</td>\n",
       "      <td>1783.791667</td>\n",
       "      <td>0.007143</td>\n",
       "      <td>0.029031</td>\n",
       "      <td>12.241717</td>\n",
       "      <td>0.0</td>\n",
       "      <td>4</td>\n",
       "      <td>6</td>\n",
       "      <td>1</td>\n",
       "      <td>1</td>\n",
       "      <td>1</td>\n",
       "      <td>1</td>\n",
       "      <td>0</td>\n",
       "    </tr>\n",
       "    <tr>\n",
       "      <th>12326</th>\n",
       "      <td>0</td>\n",
       "      <td>0.0</td>\n",
       "      <td>0</td>\n",
       "      <td>0.0</td>\n",
       "      <td>5</td>\n",
       "      <td>465.750000</td>\n",
       "      <td>0.000000</td>\n",
       "      <td>0.021333</td>\n",
       "      <td>0.000000</td>\n",
       "      <td>0.0</td>\n",
       "      <td>3</td>\n",
       "      <td>2</td>\n",
       "      <td>1</td>\n",
       "      <td>8</td>\n",
       "      <td>1</td>\n",
       "      <td>1</td>\n",
       "      <td>0</td>\n",
       "    </tr>\n",
       "    <tr>\n",
       "      <th>12327</th>\n",
       "      <td>0</td>\n",
       "      <td>0.0</td>\n",
       "      <td>0</td>\n",
       "      <td>0.0</td>\n",
       "      <td>6</td>\n",
       "      <td>184.250000</td>\n",
       "      <td>0.083333</td>\n",
       "      <td>0.086667</td>\n",
       "      <td>0.000000</td>\n",
       "      <td>0.0</td>\n",
       "      <td>3</td>\n",
       "      <td>2</td>\n",
       "      <td>1</td>\n",
       "      <td>13</td>\n",
       "      <td>1</td>\n",
       "      <td>1</td>\n",
       "      <td>0</td>\n",
       "    </tr>\n",
       "    <tr>\n",
       "      <th>12328</th>\n",
       "      <td>4</td>\n",
       "      <td>75.0</td>\n",
       "      <td>0</td>\n",
       "      <td>0.0</td>\n",
       "      <td>15</td>\n",
       "      <td>346.000000</td>\n",
       "      <td>0.000000</td>\n",
       "      <td>0.021053</td>\n",
       "      <td>0.000000</td>\n",
       "      <td>0.0</td>\n",
       "      <td>2</td>\n",
       "      <td>2</td>\n",
       "      <td>3</td>\n",
       "      <td>11</td>\n",
       "      <td>1</td>\n",
       "      <td>0</td>\n",
       "      <td>0</td>\n",
       "    </tr>\n",
       "    <tr>\n",
       "      <th>12329</th>\n",
       "      <td>0</td>\n",
       "      <td>0.0</td>\n",
       "      <td>0</td>\n",
       "      <td>0.0</td>\n",
       "      <td>3</td>\n",
       "      <td>21.250000</td>\n",
       "      <td>0.000000</td>\n",
       "      <td>0.066667</td>\n",
       "      <td>0.000000</td>\n",
       "      <td>0.0</td>\n",
       "      <td>3</td>\n",
       "      <td>2</td>\n",
       "      <td>1</td>\n",
       "      <td>2</td>\n",
       "      <td>0</td>\n",
       "      <td>1</td>\n",
       "      <td>0</td>\n",
       "    </tr>\n",
       "  </tbody>\n",
       "</table>\n",
       "<p>12330 rows × 17 columns</p>\n",
       "</div>"
      ],
      "text/plain": [
       "       Administrative  Administrative_Duration  Informational  \\\n",
       "0                   0                      0.0              0   \n",
       "1                   0                      0.0              0   \n",
       "2                   0                      0.0              0   \n",
       "3                   0                      0.0              0   \n",
       "4                   0                      0.0              0   \n",
       "...               ...                      ...            ...   \n",
       "12325               3                    145.0              0   \n",
       "12326               0                      0.0              0   \n",
       "12327               0                      0.0              0   \n",
       "12328               4                     75.0              0   \n",
       "12329               0                      0.0              0   \n",
       "\n",
       "       Informational_Duration  ProductRelated  ProductRelated_Duration  \\\n",
       "0                         0.0               1                 0.000000   \n",
       "1                         0.0               2                64.000000   \n",
       "2                         0.0               1                 0.000000   \n",
       "3                         0.0               2                 2.666667   \n",
       "4                         0.0              10               627.500000   \n",
       "...                       ...             ...                      ...   \n",
       "12325                     0.0              53              1783.791667   \n",
       "12326                     0.0               5               465.750000   \n",
       "12327                     0.0               6               184.250000   \n",
       "12328                     0.0              15               346.000000   \n",
       "12329                     0.0               3                21.250000   \n",
       "\n",
       "       BounceRates  ExitRates  PageValues  SpecialDay  OperatingSystems  \\\n",
       "0         0.200000   0.200000    0.000000         0.0                 1   \n",
       "1         0.000000   0.100000    0.000000         0.0                 2   \n",
       "2         0.200000   0.200000    0.000000         0.0                 4   \n",
       "3         0.050000   0.140000    0.000000         0.0                 3   \n",
       "4         0.020000   0.050000    0.000000         0.0                 3   \n",
       "...            ...        ...         ...         ...               ...   \n",
       "12325     0.007143   0.029031   12.241717         0.0                 4   \n",
       "12326     0.000000   0.021333    0.000000         0.0                 3   \n",
       "12327     0.083333   0.086667    0.000000         0.0                 3   \n",
       "12328     0.000000   0.021053    0.000000         0.0                 2   \n",
       "12329     0.000000   0.066667    0.000000         0.0                 3   \n",
       "\n",
       "       Browser  Region  TrafficType  VisitorType  Weekend  Revenue  \n",
       "0            1       1            1            1        0        0  \n",
       "1            2       1            2            1        0        0  \n",
       "2            1       9            3            1        0        0  \n",
       "3            2       2            4            1        0        0  \n",
       "4            3       1            4            1        1        0  \n",
       "...        ...     ...          ...          ...      ...      ...  \n",
       "12325        6       1            1            1        1        0  \n",
       "12326        2       1            8            1        1        0  \n",
       "12327        2       1           13            1        1        0  \n",
       "12328        2       3           11            1        0        0  \n",
       "12329        2       1            2            0        1        0  \n",
       "\n",
       "[12330 rows x 17 columns]"
      ]
     },
     "execution_count": 15,
     "metadata": {},
     "output_type": "execute_result"
    }
   ],
   "source": [
    "dataset.drop(\"Month\",axis=1)"
   ]
  },
  {
   "cell_type": "code",
   "execution_count": 16,
   "id": "d7078316",
   "metadata": {},
   "outputs": [
    {
     "name": "stdout",
     "output_type": "stream",
     "text": [
      "<class 'pandas.core.frame.DataFrame'>\n",
      "RangeIndex: 12330 entries, 0 to 12329\n",
      "Data columns (total 18 columns):\n",
      " #   Column                   Non-Null Count  Dtype  \n",
      "---  ------                   --------------  -----  \n",
      " 0   Administrative           12330 non-null  int64  \n",
      " 1   Administrative_Duration  12330 non-null  float64\n",
      " 2   Informational            12330 non-null  int64  \n",
      " 3   Informational_Duration   12330 non-null  float64\n",
      " 4   ProductRelated           12330 non-null  int64  \n",
      " 5   ProductRelated_Duration  12330 non-null  float64\n",
      " 6   BounceRates              12330 non-null  float64\n",
      " 7   ExitRates                12330 non-null  float64\n",
      " 8   PageValues               12330 non-null  float64\n",
      " 9   SpecialDay               12330 non-null  float64\n",
      " 10  Month                    12330 non-null  object \n",
      " 11  OperatingSystems         12330 non-null  int64  \n",
      " 12  Browser                  12330 non-null  int64  \n",
      " 13  Region                   12330 non-null  int64  \n",
      " 14  TrafficType              12330 non-null  int64  \n",
      " 15  VisitorType              12330 non-null  int64  \n",
      " 16  Weekend                  12330 non-null  int32  \n",
      " 17  Revenue                  12330 non-null  int32  \n",
      "dtypes: float64(7), int32(2), int64(8), object(1)\n",
      "memory usage: 1.6+ MB\n"
     ]
    }
   ],
   "source": [
    "dataset.info()"
   ]
  },
  {
   "cell_type": "code",
   "execution_count": 17,
   "id": "4beb4087",
   "metadata": {},
   "outputs": [],
   "source": [
    "# Using train_test from Scikit Learn to divide the data into a training dataset and test dataset\n",
    "#Normalising the data to train a neural network, Using standardscaler estimator from Scikit Learn : Thereby making varaible 0 and SD 1\n",
    "x = dataset.drop(columns=[\"Month\",\"Revenue\",\"SpecialDay\",\"Region\",\"TrafficType\",\"Weekend\"])\n",
    "y = dataset[\"Revenue\"]\n",
    "x_train, x_test, y_train, y_test = train_test_split(x,y,test_size=0.2, stratify=y, random_state=99)\n",
    "scaler = StandardScaler()\n",
    "x_train = scaler.fit_transform(x_train)\n",
    "x_test = scaler.transform(x_test)"
   ]
  },
  {
   "cell_type": "code",
   "execution_count": 18,
   "id": "399ce43f",
   "metadata": {},
   "outputs": [],
   "source": [
    "# Part two: Building and training my neural network\n",
    "# Using Keras sequential model allows me to build my neural network layer by layer\n",
    "# using \"Dense\" layer\n",
    "model = tf.keras.models.Sequential()\n",
    "model.add(tf.keras.layers.Dense(8,activation=\"relu\",input_shape=(12,)))\n",
    "model.add(tf.keras.layers.Dense(2,activation=\"softmax\"))"
   ]
  },
  {
   "cell_type": "code",
   "execution_count": 19,
   "id": "0f246c52",
   "metadata": {},
   "outputs": [],
   "source": [
    "# Compile model \n",
    "model.compile(optimizer=\"adam\",loss=\"sparse_categorical_crossentropy\",metrics=\"accuracy\")"
   ]
  },
  {
   "cell_type": "code",
   "execution_count": 20,
   "id": "62a39f58",
   "metadata": {},
   "outputs": [
    {
     "name": "stdout",
     "output_type": "stream",
     "text": [
      "Model: \"sequential\"\n",
      "_________________________________________________________________\n",
      " Layer (type)                Output Shape              Param #   \n",
      "=================================================================\n",
      " dense (Dense)               (None, 8)                 104       \n",
      "                                                                 \n",
      " dense_1 (Dense)             (None, 2)                 18        \n",
      "                                                                 \n",
      "=================================================================\n",
      "Total params: 122\n",
      "Trainable params: 122\n",
      "Non-trainable params: 0\n",
      "_________________________________________________________________\n"
     ]
    }
   ],
   "source": [
    "model.summary()"
   ]
  },
  {
   "cell_type": "code",
   "execution_count": 21,
   "id": "66fb376d",
   "metadata": {},
   "outputs": [
    {
     "name": "stdout",
     "output_type": "stream",
     "text": [
      "Epoch 1/50\n",
      "987/987 - 6s - loss: 0.9475 - accuracy: 0.7095 - val_loss: 0.4769 - val_accuracy: 0.8054 - 6s/epoch - 6ms/step\n",
      "Epoch 2/50\n",
      "987/987 - 4s - loss: 0.7827 - accuracy: 0.8313 - val_loss: 0.4401 - val_accuracy: 0.8338 - 4s/epoch - 4ms/step\n",
      "Epoch 3/50\n",
      "987/987 - 3s - loss: 0.7557 - accuracy: 0.8468 - val_loss: 0.4114 - val_accuracy: 0.8555 - 3s/epoch - 3ms/step\n",
      "Epoch 4/50\n",
      "987/987 - 3s - loss: 0.7400 - accuracy: 0.8533 - val_loss: 0.4096 - val_accuracy: 0.8561 - 3s/epoch - 3ms/step\n",
      "Epoch 5/50\n",
      "987/987 - 3s - loss: 0.7288 - accuracy: 0.8548 - val_loss: 0.3994 - val_accuracy: 0.8642 - 3s/epoch - 3ms/step\n",
      "Epoch 6/50\n",
      "987/987 - 3s - loss: 0.7188 - accuracy: 0.8593 - val_loss: 0.4158 - val_accuracy: 0.8505 - 3s/epoch - 3ms/step\n",
      "Epoch 7/50\n",
      "987/987 - 3s - loss: 0.7113 - accuracy: 0.8567 - val_loss: 0.3916 - val_accuracy: 0.8566 - 3s/epoch - 3ms/step\n",
      "Epoch 8/50\n",
      "987/987 - 3s - loss: 0.7063 - accuracy: 0.8572 - val_loss: 0.4004 - val_accuracy: 0.8561 - 3s/epoch - 3ms/step\n",
      "Epoch 9/50\n",
      "987/987 - 3s - loss: 0.7009 - accuracy: 0.8560 - val_loss: 0.4184 - val_accuracy: 0.8550 - 3s/epoch - 3ms/step\n",
      "Epoch 10/50\n",
      "987/987 - 3s - loss: 0.6970 - accuracy: 0.8541 - val_loss: 0.3910 - val_accuracy: 0.8606 - 3s/epoch - 3ms/step\n",
      "Epoch 11/50\n",
      "987/987 - 3s - loss: 0.6934 - accuracy: 0.8548 - val_loss: 0.3781 - val_accuracy: 0.8596 - 3s/epoch - 3ms/step\n",
      "Epoch 12/50\n",
      "987/987 - 3s - loss: 0.6906 - accuracy: 0.8574 - val_loss: 0.4152 - val_accuracy: 0.8500 - 3s/epoch - 3ms/step\n",
      "Epoch 13/50\n",
      "987/987 - 3s - loss: 0.6872 - accuracy: 0.8559 - val_loss: 0.4131 - val_accuracy: 0.8464 - 3s/epoch - 3ms/step\n",
      "Epoch 14/50\n",
      "987/987 - 2s - loss: 0.6866 - accuracy: 0.8533 - val_loss: 0.3985 - val_accuracy: 0.8571 - 2s/epoch - 2ms/step\n",
      "Epoch 15/50\n",
      "987/987 - 2s - loss: 0.6855 - accuracy: 0.8552 - val_loss: 0.4050 - val_accuracy: 0.8540 - 2s/epoch - 2ms/step\n",
      "Epoch 16/50\n",
      "987/987 - 2s - loss: 0.6838 - accuracy: 0.8569 - val_loss: 0.3741 - val_accuracy: 0.8581 - 2s/epoch - 2ms/step\n",
      "Epoch 17/50\n",
      "987/987 - 3s - loss: 0.6818 - accuracy: 0.8552 - val_loss: 0.3958 - val_accuracy: 0.8591 - 3s/epoch - 3ms/step\n",
      "Epoch 18/50\n",
      "987/987 - 3s - loss: 0.6822 - accuracy: 0.8568 - val_loss: 0.3672 - val_accuracy: 0.8621 - 3s/epoch - 3ms/step\n",
      "Epoch 19/50\n",
      "987/987 - 3s - loss: 0.6802 - accuracy: 0.8582 - val_loss: 0.4175 - val_accuracy: 0.8500 - 3s/epoch - 3ms/step\n",
      "Epoch 20/50\n",
      "987/987 - 2s - loss: 0.6799 - accuracy: 0.8549 - val_loss: 0.3774 - val_accuracy: 0.8576 - 2s/epoch - 2ms/step\n",
      "Epoch 21/50\n",
      "987/987 - 2s - loss: 0.6783 - accuracy: 0.8600 - val_loss: 0.3982 - val_accuracy: 0.8540 - 2s/epoch - 2ms/step\n",
      "Epoch 22/50\n",
      "987/987 - 2s - loss: 0.6782 - accuracy: 0.8582 - val_loss: 0.4120 - val_accuracy: 0.8530 - 2s/epoch - 2ms/step\n",
      "Epoch 23/50\n",
      "987/987 - 2s - loss: 0.6753 - accuracy: 0.8548 - val_loss: 0.4065 - val_accuracy: 0.8581 - 2s/epoch - 2ms/step\n",
      "Epoch 24/50\n",
      "987/987 - 3s - loss: 0.6745 - accuracy: 0.8612 - val_loss: 0.3726 - val_accuracy: 0.8566 - 3s/epoch - 3ms/step\n",
      "Epoch 25/50\n",
      "987/987 - 3s - loss: 0.6739 - accuracy: 0.8573 - val_loss: 0.3591 - val_accuracy: 0.8657 - 3s/epoch - 3ms/step\n",
      "Epoch 26/50\n",
      "987/987 - 3s - loss: 0.6753 - accuracy: 0.8593 - val_loss: 0.3889 - val_accuracy: 0.8581 - 3s/epoch - 3ms/step\n",
      "Epoch 27/50\n",
      "987/987 - 2s - loss: 0.6727 - accuracy: 0.8587 - val_loss: 0.4145 - val_accuracy: 0.8495 - 2s/epoch - 2ms/step\n",
      "Epoch 28/50\n",
      "987/987 - 2s - loss: 0.6743 - accuracy: 0.8586 - val_loss: 0.3893 - val_accuracy: 0.8596 - 2s/epoch - 2ms/step\n",
      "Epoch 29/50\n",
      "987/987 - 2s - loss: 0.6712 - accuracy: 0.8622 - val_loss: 0.4349 - val_accuracy: 0.8373 - 2s/epoch - 2ms/step\n",
      "Epoch 30/50\n",
      "987/987 - 2s - loss: 0.6703 - accuracy: 0.8596 - val_loss: 0.4086 - val_accuracy: 0.8434 - 2s/epoch - 2ms/step\n",
      "Epoch 31/50\n",
      "987/987 - 2s - loss: 0.6698 - accuracy: 0.8591 - val_loss: 0.4391 - val_accuracy: 0.8429 - 2s/epoch - 2ms/step\n",
      "Epoch 32/50\n",
      "987/987 - 2s - loss: 0.6705 - accuracy: 0.8567 - val_loss: 0.3969 - val_accuracy: 0.8555 - 2s/epoch - 2ms/step\n",
      "Epoch 33/50\n",
      "987/987 - 2s - loss: 0.6691 - accuracy: 0.8581 - val_loss: 0.3948 - val_accuracy: 0.8606 - 2s/epoch - 2ms/step\n",
      "Epoch 34/50\n",
      "987/987 - 2s - loss: 0.6681 - accuracy: 0.8615 - val_loss: 0.3891 - val_accuracy: 0.8535 - 2s/epoch - 2ms/step\n",
      "Epoch 35/50\n",
      "987/987 - 2s - loss: 0.6680 - accuracy: 0.8574 - val_loss: 0.3761 - val_accuracy: 0.8601 - 2s/epoch - 2ms/step\n",
      "Epoch 36/50\n",
      "987/987 - 2s - loss: 0.6680 - accuracy: 0.8591 - val_loss: 0.3946 - val_accuracy: 0.8566 - 2s/epoch - 2ms/step\n",
      "Epoch 37/50\n",
      "987/987 - 2s - loss: 0.6661 - accuracy: 0.8597 - val_loss: 0.4107 - val_accuracy: 0.8490 - 2s/epoch - 2ms/step\n",
      "Epoch 38/50\n",
      "987/987 - 2s - loss: 0.6665 - accuracy: 0.8615 - val_loss: 0.4004 - val_accuracy: 0.8505 - 2s/epoch - 2ms/step\n",
      "Epoch 39/50\n",
      "987/987 - 2s - loss: 0.6646 - accuracy: 0.8564 - val_loss: 0.3907 - val_accuracy: 0.8586 - 2s/epoch - 2ms/step\n",
      "Epoch 40/50\n",
      "987/987 - 2s - loss: 0.6653 - accuracy: 0.8609 - val_loss: 0.3993 - val_accuracy: 0.8571 - 2s/epoch - 2ms/step\n",
      "Epoch 41/50\n",
      "987/987 - 2s - loss: 0.6652 - accuracy: 0.8586 - val_loss: 0.3808 - val_accuracy: 0.8561 - 2s/epoch - 2ms/step\n",
      "Epoch 42/50\n",
      "987/987 - 2s - loss: 0.6641 - accuracy: 0.8573 - val_loss: 0.3868 - val_accuracy: 0.8581 - 2s/epoch - 2ms/step\n",
      "Epoch 43/50\n",
      "987/987 - 2s - loss: 0.6616 - accuracy: 0.8555 - val_loss: 0.4000 - val_accuracy: 0.8464 - 2s/epoch - 2ms/step\n",
      "Epoch 44/50\n",
      "987/987 - 2s - loss: 0.6629 - accuracy: 0.8579 - val_loss: 0.4032 - val_accuracy: 0.8510 - 2s/epoch - 2ms/step\n",
      "Epoch 45/50\n",
      "987/987 - 2s - loss: 0.6625 - accuracy: 0.8533 - val_loss: 0.3715 - val_accuracy: 0.8637 - 2s/epoch - 2ms/step\n",
      "Epoch 46/50\n",
      "987/987 - 2s - loss: 0.6643 - accuracy: 0.8598 - val_loss: 0.3944 - val_accuracy: 0.8550 - 2s/epoch - 2ms/step\n",
      "Epoch 47/50\n",
      "987/987 - 2s - loss: 0.6627 - accuracy: 0.8588 - val_loss: 0.3904 - val_accuracy: 0.8611 - 2s/epoch - 2ms/step\n",
      "Epoch 48/50\n",
      "987/987 - 2s - loss: 0.6620 - accuracy: 0.8593 - val_loss: 0.3792 - val_accuracy: 0.8571 - 2s/epoch - 2ms/step\n",
      "Epoch 49/50\n",
      "987/987 - 2s - loss: 0.6617 - accuracy: 0.8572 - val_loss: 0.4197 - val_accuracy: 0.8459 - 2s/epoch - 2ms/step\n",
      "Epoch 50/50\n",
      "987/987 - 2s - loss: 0.6611 - accuracy: 0.8584 - val_loss: 0.4174 - val_accuracy: 0.8510 - 2s/epoch - 2ms/step\n"
     ]
    }
   ],
   "source": [
    "class_weights = {0:1,1:6}\n",
    "history = model.fit(x_train, y_train,\\\n",
    "                    batch_size=8, epochs=50, \\\n",
    "                    verbose=2,class_weight=class_weights,\\\n",
    "                    validation_split=0.2)"
   ]
  },
  {
   "cell_type": "code",
   "execution_count": 22,
   "id": "404f7923",
   "metadata": {},
   "outputs": [
    {
     "data": {
      "text/plain": [
       "<matplotlib.legend.Legend at 0x2732537a6d0>"
      ]
     },
     "execution_count": 22,
     "metadata": {},
     "output_type": "execute_result"
    },
    {
     "data": {
      "image/png": "[encoded data removed]",
      "text/plain": [
       "<Figure size 432x288 with 1 Axes>"
      ]
     },
     "metadata": {
      "needs_background": "light"
     },
     "output_type": "display_data"
    }
   ],
   "source": [
    "# Part three: Evaluating Network\n",
    "accuracy = history.history[\"accuracy\"]\n",
    "validation_accuracy = history.history[\"val_accuracy\"]\n",
    "\n",
    "plt.plot(accuracy, label=\"Training Set Accuracy\")\n",
    "plt.plot(validation_accuracy,label=\"Validation Set Accuracy\")\n",
    "plt.ylabel(\"Accuracy\")\n",
    "#plt.ylim([min(plt.ylim()),0.7])\n",
    "plt.title(\"Training and Validation Accuracy Across Epochs\")\n",
    "plt.legend()"
   ]
  },
  {
   "cell_type": "code",
   "execution_count": 23,
   "id": "6c000e60",
   "metadata": {},
   "outputs": [
    {
     "data": {
      "text/plain": [
       "[0.8053725361824036,\n",
       " 0.8337557315826416,\n",
       " 0.8555499315261841,\n",
       " 0.8560567498207092,\n",
       " 0.864166259765625,\n",
       " 0.8504815101623535,\n",
       " 0.8565636277198792,\n",
       " 0.8560567498207092,\n",
       " 0.8550430536270142,\n",
       " 0.8606183528900146,\n",
       " 0.8596046566963196,\n",
       " 0.8499746322631836,\n",
       " 0.846426784992218,\n",
       " 0.8570704460144043,\n",
       " 0.8540294170379639,\n",
       " 0.8580841422080994,\n",
       " 0.8590978384017944,\n",
       " 0.8621388673782349,\n",
       " 0.8499746322631836,\n",
       " 0.8575772643089294,\n",
       " 0.8540294170379639,\n",
       " 0.8530157208442688,\n",
       " 0.8580841422080994,\n",
       " 0.8565636277198792,\n",
       " 0.8656867742538452,\n",
       " 0.8580841422080994,\n",
       " 0.8494678139686584,\n",
       " 0.8596046566963196,\n",
       " 0.8373035788536072,\n",
       " 0.8433856964111328,\n",
       " 0.8428788781166077,\n",
       " 0.8555499315261841,\n",
       " 0.8606183528900146,\n",
       " 0.853522539138794,\n",
       " 0.8601115345954895,\n",
       " 0.8565636277198792,\n",
       " 0.8489609956741333,\n",
       " 0.8504815101623535,\n",
       " 0.8585909605026245,\n",
       " 0.8570704460144043,\n",
       " 0.8560567498207092,\n",
       " 0.8580841422080994,\n",
       " 0.846426784992218,\n",
       " 0.8509883284568787,\n",
       " 0.8636593818664551,\n",
       " 0.8550430536270142,\n",
       " 0.8611251711845398,\n",
       " 0.8570704460144043,\n",
       " 0.8459199070930481,\n",
       " 0.8509883284568787]"
      ]
     },
     "execution_count": 23,
     "metadata": {},
     "output_type": "execute_result"
    }
   ],
   "source": [
    "validation_accuracy"
   ]
  },
  {
   "cell_type": "code",
   "execution_count": 24,
   "id": "9cb373d2",
   "metadata": {},
   "outputs": [
    {
     "data": {
      "text/plain": [
       "3393     1\n",
       "10700    1\n",
       "4524     0\n",
       "5641     0\n",
       "2003     0\n",
       "        ..\n",
       "8149     0\n",
       "4976     0\n",
       "11729    0\n",
       "8684     0\n",
       "9529     0\n",
       "Name: Revenue, Length: 9864, dtype: int32"
      ]
     },
     "execution_count": 24,
     "metadata": {},
     "output_type": "execute_result"
    }
   ],
   "source": [
    "y_train"
   ]
  },
  {
   "cell_type": "code",
   "execution_count": 25,
   "id": "c62c3bba",
   "metadata": {},
   "outputs": [
    {
     "data": {
      "text/plain": [
       "<matplotlib.legend.Legend at 0x273225e05b0>"
      ]
     },
     "execution_count": 25,
     "metadata": {},
     "output_type": "execute_result"
    },
    {
     "data": {
      "image/png": "[encoded data removed]",
      "text/plain": [
       "<Figure size 432x288 with 1 Axes>"
      ]
     },
     "metadata": {
      "needs_background": "light"
     },
     "output_type": "display_data"
    }
   ],
   "source": [
    "#For Loss \n",
    "loss = history.history[\"loss\"]\n",
    "validation_loss = history.history[\"val_loss\"]\n",
    "\n",
    "plt.plot(loss, label=\"Training Set loss\")\n",
    "plt.plot(validation_loss,label=\"Validation Set loss\")\n",
    "plt.ylabel(\"loss\")\n",
    "#plt.ylim([min(plt.ylim()),0.7])\n",
    "plt.title(\"Training and Validation Accuracy Across Epochs\")\n",
    "plt.legend()"
   ]
  },
  {
   "cell_type": "code",
   "execution_count": 26,
   "id": "3fb71332",
   "metadata": {},
   "outputs": [],
   "source": [
    "from sklearn.metrics import confusion_matrix, classification_report"
   ]
  },
  {
   "cell_type": "code",
   "execution_count": 27,
   "id": "509bb789",
   "metadata": {},
   "outputs": [
    {
     "name": "stdout",
     "output_type": "stream",
     "text": [
      "78/78 [==============================] - 0s 1ms/step\n"
     ]
    }
   ],
   "source": [
    "y_pred = model.predict(x_test)\n",
    "y_pred = y_pred.argmax(axis=1)"
   ]
  },
  {
   "cell_type": "code",
   "execution_count": 28,
   "id": "4f204564",
   "metadata": {},
   "outputs": [
    {
     "data": {
      "text/plain": [
       "6173     0\n",
       "7120     0\n",
       "6646     1\n",
       "5733     0\n",
       "7679     1\n",
       "        ..\n",
       "5651     1\n",
       "10236    0\n",
       "7169     0\n",
       "4667     0\n",
       "12251    0\n",
       "Name: Revenue, Length: 2466, dtype: int32"
      ]
     },
     "execution_count": 28,
     "metadata": {},
     "output_type": "execute_result"
    }
   ],
   "source": [
    "y_test"
   ]
  },
  {
   "cell_type": "code",
   "execution_count": 29,
   "id": "fb2898b8",
   "metadata": {},
   "outputs": [
    {
     "data": {
      "image/png": "[encoded data removed]",
      "text/plain": [
       "<Figure size 432x288 with 2 Axes>"
      ]
     },
     "metadata": {
      "needs_background": "light"
     },
     "output_type": "display_data"
    }
   ],
   "source": [
    "confusion_matrix = confusion_matrix(y_test,y_pred)\n",
    "ax = sns.heatmap(confusion_matrix,cmap='flare',annot=True,fmt='d')\n",
    "plt.xlabel('Predicted Class',fontsize=12)\n",
    "plt.ylabel('True Class',fontsize=12)\n",
    "plt.title('Confusion Matrix',fontsize=12)\n",
    "plt.show()"
   ]
  },
  {
   "cell_type": "code",
   "execution_count": 30,
   "id": "1f6d0d08",
   "metadata": {},
   "outputs": [
    {
     "name": "stdout",
     "output_type": "stream",
     "text": [
      "              precision    recall  f1-score   support\n",
      "\n",
      "           0       0.96      0.86      0.90      2084\n",
      "           1       0.50      0.79      0.61       382\n",
      "\n",
      "    accuracy                           0.85      2466\n",
      "   macro avg       0.73      0.82      0.76      2466\n",
      "weighted avg       0.89      0.85      0.86      2466\n",
      "\n"
     ]
    }
   ],
   "source": [
    "print(classification_report(y_test,y_pred))"
   ]
  },
  {
   "cell_type": "code",
   "execution_count": null,
   "id": "b30fc6ea",
   "metadata": {},
   "outputs": [],
   "source": []
  }
 ],
 "metadata": {
  "kernelspec": {
   "display_name": "Python 3",
   "language": "python",
   "name": "python3"
  },
  "language_info": {
   "codemirror_mode": {
    "name": "ipython",
    "version": 3
   },
   "file_extension": ".py",
   "mimetype": "text/x-python",
   "name": "python",
   "nbconvert_exporter": "python",
   "pygments_lexer": "ipython3",
   "version": "3.8.8"
  }
 },
 "nbformat": 4,
 "nbformat_minor": 5
}
